{
  "nbformat": 4,
  "nbformat_minor": 0,
  "metadata": {
    "colab": {
      "private_outputs": true,
      "provenance": [],
      "collapsed_sections": [
        "yuO2KNCmvsqp",
        "jRHSuecHZhSF",
        "OtZafX5sjpye",
        "dw2FrgQHp2BX",
        "sf3rHQ39H59M",
        "w2MpRhEBH_Ds",
        "hYl-PncXPrKI",
        "LVL5qkMqbPSP",
        "uhRuFdYTcKaN"
      ],
      "toc_visible": true,
      "include_colab_link": true
    },
    "kernelspec": {
      "name": "python3",
      "display_name": "Python 3"
    },
    "language_info": {
      "name": "python"
    }
  },
  "cells": [
    {
      "cell_type": "markdown",
      "metadata": {
        "id": "view-in-github",
        "colab_type": "text"
      },
      "source": [
        "<a href=\"https://colab.research.google.com/github/ValentinJaeung/TIL/blob/main/LNBDA_Practice_1_Python_Basics%2BCorrelation_ipynb_%EA%B3%BC%EC%A0%9C_%EB%B2%84%EC%A0%BC.ipynb\" target=\"_parent\"><img src=\"https://colab.research.google.com/assets/colab-badge.svg\" alt=\"Open In Colab\"/></a>"
      ]
    },
    {
      "cell_type": "markdown",
      "source": [
        "##Basic syntax"
      ],
      "metadata": {
        "id": "yuO2KNCmvsqp"
      }
    },
    {
      "cell_type": "code",
      "source": [
        "print(\"Hello, Python!\")"
      ],
      "metadata": {
        "id": "uVv9uC3qLkSQ"
      },
      "execution_count": null,
      "outputs": []
    },
    {
      "cell_type": "code",
      "source": [
        "print(\"Hello, Python!\")\n",
        "  print(\"Hello, Python!\")"
      ],
      "metadata": {
        "id": "ZkBh3YA1uuM2"
      },
      "execution_count": null,
      "outputs": []
    },
    {
      "cell_type": "code",
      "source": [
        "# print(\"Hello, Python!\")"
      ],
      "metadata": {
        "id": "kNWUCpcxvAER"
      },
      "execution_count": null,
      "outputs": []
    },
    {
      "cell_type": "code",
      "source": [
        "sName = input(\"enter your name: \")\n",
        "print('hello')\n",
        "print('my name is', sName )"
      ],
      "metadata": {
        "id": "ToYQluhnfGM7"
      },
      "execution_count": null,
      "outputs": []
    },
    {
      "cell_type": "markdown",
      "metadata": {
        "id": "jRHSuecHZhSF"
      },
      "source": [
        "## 수치연산"
      ]
    },
    {
      "cell_type": "markdown",
      "metadata": {
        "id": "N1byW1f4TgX4"
      },
      "source": [
        "사칙 연산"
      ]
    },
    {
      "cell_type": "code",
      "metadata": {
        "id": "3D0lliTiZeQj"
      },
      "source": [
        "5 - 2"
      ],
      "execution_count": null,
      "outputs": []
    },
    {
      "cell_type": "code",
      "source": [
        "5 / 2"
      ],
      "metadata": {
        "id": "eiuMqgt8wy_R"
      },
      "execution_count": null,
      "outputs": []
    },
    {
      "cell_type": "code",
      "metadata": {
        "id": "3Rh_P0QwakIC"
      },
      "source": [
        "(5 * 4 - 15) + ((5 - 2) * (9 - 7))"
      ],
      "execution_count": null,
      "outputs": []
    },
    {
      "cell_type": "markdown",
      "metadata": {
        "id": "RUpMSeSsTnhz"
      },
      "source": [
        "거듭제곱"
      ]
    },
    {
      "cell_type": "code",
      "metadata": {
        "id": "_lFJgmFQZB2-"
      },
      "source": [
        "2**5"
      ],
      "execution_count": null,
      "outputs": []
    },
    {
      "cell_type": "code",
      "metadata": {
        "id": "Qp_4QSyObI08"
      },
      "source": [
        "2**0.5"
      ],
      "execution_count": null,
      "outputs": []
    },
    {
      "cell_type": "markdown",
      "metadata": {
        "id": "tC-pwfucTseO"
      },
      "source": [
        "몫과 나머지"
      ]
    },
    {
      "cell_type": "code",
      "metadata": {
        "id": "cHXP4EfnbJHw"
      },
      "source": [
        "13 % 5"
      ],
      "execution_count": null,
      "outputs": []
    },
    {
      "cell_type": "code",
      "metadata": {
        "id": "bBra9KnFbU6B"
      },
      "source": [
        "13 // 5"
      ],
      "execution_count": null,
      "outputs": []
    },
    {
      "cell_type": "markdown",
      "source": [
        "# **Python Basics/ Data Structures**"
      ],
      "metadata": {
        "id": "FIa0oKlIseOF"
      }
    },
    {
      "cell_type": "markdown",
      "metadata": {
        "id": "PrFiRPjvcMSy"
      },
      "source": [
        "## 논리와 비교 연산"
      ]
    },
    {
      "cell_type": "markdown",
      "metadata": {
        "id": "AO6QMbGKYuXe"
      },
      "source": [
        "논리 연산"
      ]
    },
    {
      "cell_type": "code",
      "metadata": {
        "id": "6GntHKJgcJv5"
      },
      "source": [
        "print(True)"
      ],
      "execution_count": null,
      "outputs": []
    },
    {
      "cell_type": "code",
      "metadata": {
        "id": "zgEee1GhcJ3p"
      },
      "source": [
        "print(False)"
      ],
      "execution_count": null,
      "outputs": []
    },
    {
      "cell_type": "code",
      "metadata": {
        "id": "1zD3A_KGcJ-x"
      },
      "source": [
        "print(True and False)\n",
        "print(True or False)\n",
        "print(not True)"
      ],
      "execution_count": null,
      "outputs": []
    },
    {
      "cell_type": "markdown",
      "metadata": {
        "id": "JKS2O3rdYzV_"
      },
      "source": [
        "비교 연산"
      ]
    },
    {
      "cell_type": "code",
      "metadata": {
        "id": "yKu51PSvcaFH"
      },
      "source": [
        "print(5 == 3)\n",
        "print(5 != 3)\n",
        "print(5 < 3)\n",
        "print(5 > 3)\n",
        "print(5 <= 3)\n",
        "print(5 >= 3)"
      ],
      "execution_count": null,
      "outputs": []
    },
    {
      "cell_type": "markdown",
      "metadata": {
        "id": "zXd5hS8MY2fR"
      },
      "source": [
        "논리와 비교 연산"
      ]
    },
    {
      "cell_type": "code",
      "metadata": {
        "id": "jKHbEk0ocaMZ"
      },
      "source": [
        "print(1 > 0 and -2 < 0)"
      ],
      "execution_count": null,
      "outputs": []
    },
    {
      "cell_type": "markdown",
      "source": [
        "##문자열 처리"
      ],
      "metadata": {
        "id": "LNwANv4bljDa"
      }
    },
    {
      "cell_type": "code",
      "source": [
        "\"문자열\" + \"처리\""
      ],
      "metadata": {
        "id": "G1hgnr2plhLW"
      },
      "execution_count": null,
      "outputs": []
    },
    {
      "cell_type": "code",
      "source": [
        "\"문자열\" * 3"
      ],
      "metadata": {
        "id": "2nc-Sl5xqJwc"
      },
      "execution_count": null,
      "outputs": []
    },
    {
      "cell_type": "code",
      "source": [
        "\"문자열\" + \"처리\" *2"
      ],
      "metadata": {
        "id": "LZgqeewmqLyE"
      },
      "execution_count": null,
      "outputs": []
    },
    {
      "cell_type": "markdown",
      "source": [
        "## 자료형"
      ],
      "metadata": {
        "id": "ZJqkvzse49yV"
      }
    },
    {
      "cell_type": "code",
      "source": [
        "#자료형 관련 함수들\n",
        "#type(), int(), float(), bool, str()\n",
        "#         123   123.45   True \"Japan\""
      ],
      "metadata": {
        "id": "mD0y73rO4_D8"
      },
      "execution_count": null,
      "outputs": []
    },
    {
      "cell_type": "code",
      "source": [
        "type(1234)"
      ],
      "metadata": {
        "id": "rofKax-N5J96"
      },
      "execution_count": null,
      "outputs": []
    },
    {
      "cell_type": "code",
      "source": [
        "type('1234')"
      ],
      "metadata": {
        "id": "fbaYEGwCIsXC"
      },
      "execution_count": null,
      "outputs": []
    },
    {
      "cell_type": "code",
      "source": [
        "type(True)"
      ],
      "metadata": {
        "id": "bcWKeteaH65C"
      },
      "execution_count": null,
      "outputs": []
    },
    {
      "cell_type": "code",
      "source": [
        "str(1234)"
      ],
      "metadata": {
        "id": "kDmRKrbdH7jb"
      },
      "execution_count": null,
      "outputs": []
    },
    {
      "cell_type": "code",
      "source": [
        "int('1234')"
      ],
      "metadata": {
        "id": "KH0KDepyH9bz"
      },
      "execution_count": null,
      "outputs": []
    },
    {
      "cell_type": "markdown",
      "source": [
        "## 변수"
      ],
      "metadata": {
        "id": "R-YYmmkNaucG"
      }
    },
    {
      "cell_type": "code",
      "source": [
        "a = 4\n",
        "b = 2\n",
        "c = 1"
      ],
      "metadata": {
        "id": "75y3dRxsawPM"
      },
      "execution_count": null,
      "outputs": []
    },
    {
      "cell_type": "code",
      "source": [
        "a"
      ],
      "metadata": {
        "id": "jAOwhRsyePUv"
      },
      "execution_count": null,
      "outputs": []
    },
    {
      "cell_type": "code",
      "source": [
        "a + b - c"
      ],
      "metadata": {
        "id": "UrWFULrSbIEL"
      },
      "execution_count": null,
      "outputs": []
    },
    {
      "cell_type": "code",
      "source": [
        "x=1\n",
        "x"
      ],
      "metadata": {
        "id": "k3uQiw45bxHp"
      },
      "execution_count": null,
      "outputs": []
    },
    {
      "cell_type": "code",
      "source": [
        "x = x + 1\n",
        "x"
      ],
      "metadata": {
        "id": "HnbiQC-dKj5Z"
      },
      "execution_count": null,
      "outputs": []
    },
    {
      "cell_type": "code",
      "source": [
        "# raise = 5"
      ],
      "metadata": {
        "id": "zrQqtEbGKksR"
      },
      "execution_count": null,
      "outputs": []
    },
    {
      "cell_type": "markdown",
      "metadata": {
        "id": "A7ygFxmnl541"
      },
      "source": [
        "## 리스트 다루기"
      ]
    },
    {
      "cell_type": "code",
      "metadata": {
        "id": "u01Icq6ydj5S"
      },
      "source": [
        "### List 생성 1 (리스트 초기화)\n",
        "myList1 = []\n",
        "myList2 = list()\n",
        "print('myList1:',myList1)\n",
        "print('myList2:',myList2)"
      ],
      "execution_count": null,
      "outputs": []
    },
    {
      "cell_type": "code",
      "metadata": {
        "id": "pCtbQwB_l8Tb"
      },
      "source": [
        "### List 생성 2\n",
        "myList_Int = [1, 2, 3, 4, 5, 6, 7, 8, 9, 10]\n",
        "myList_Float = [3.14, 99.9, 2.6e-13, 2/3]\n",
        "myList_Bool = [False, True, True, False, True]\n",
        "myList_String = [\"AbCDF\", \"Enjoy Python!\", \"대한민국\"]\n",
        "myList_Mixed = [2, 3.14, myList_String, True]\n",
        "print(myList_Int)\n",
        "print(myList_Float)\n",
        "print(myList_Bool)\n",
        "print(myList_String)\n",
        "print(myList_Mixed)"
      ],
      "execution_count": null,
      "outputs": []
    },
    {
      "cell_type": "markdown",
      "source": [
        "- Note: Python의 인덱스는 0부터 시작"
      ],
      "metadata": {
        "id": "jWiRWm14m8z2"
      }
    },
    {
      "cell_type": "code",
      "metadata": {
        "id": "28T4jGwFl8cu"
      },
      "source": [
        "### List Element Indexing\n",
        "myList1 = [45, \"MyString\", 3.0, 4.5, True]\n",
        "print(myList1)\n",
        "print(myList1[0], myList1[2], myList1[-1])"
      ],
      "execution_count": null,
      "outputs": []
    },
    {
      "cell_type": "code",
      "metadata": {
        "id": "nuDfr4PrdkIZ"
      },
      "source": [
        "### List Element Indexing - 값 변경\n",
        "myList1[0] = 3.0\n",
        "myList1[2] = 45\n",
        "myList1[1] = \"대한민국 서울\"\n",
        "print(myList1)"
      ],
      "execution_count": null,
      "outputs": []
    },
    {
      "cell_type": "code",
      "metadata": {
        "id": "cUEzNzd-dkP4"
      },
      "source": [
        "### List 연결과 반복\n",
        "lstEx01 = [1, 2, 3]\n",
        "lstEx02 = [4, 5, 6]\n",
        "print(lstEx01 + lstEx02)\n",
        "print(lstEx01 * 3)"
      ],
      "execution_count": null,
      "outputs": []
    },
    {
      "cell_type": "code",
      "metadata": {
        "id": "KPf8EzdodkXR"
      },
      "source": [
        "### Slicing 1\n",
        "lstEx03 = [0, 1, 2, 3, 4, 5, 6, 7, 8, 9]\n",
        "print(lstEx03)\n",
        "print(lstEx03[0:5])\n",
        "print(lstEx03[3:7])\n",
        "print(lstEx03[:5])\n",
        "print(lstEx03[7:])\n",
        "print(lstEx03[1:9:2])\n",
        "print(lstEx03[::3])"
      ],
      "execution_count": null,
      "outputs": []
    },
    {
      "cell_type": "code",
      "metadata": {
        "id": "Z8m8qhiSn6Xt"
      },
      "source": [
        "### Existence and Delete items\n",
        "print(lstEx03)  # lstEx03 = [0, 1, 2, 3, 4, 5, 6, 7, 8, 9]\n",
        "print(3 in lstEx03)\n",
        "print(11 in lstEx03)\n",
        "print(\"\")\n",
        "\n",
        "print(lstEx03)\n",
        "del lstEx03[0]; del lstEx03[5]\n",
        "print(lstEx03)\n",
        "print(\"\")"
      ],
      "execution_count": null,
      "outputs": []
    },
    {
      "cell_type": "code",
      "source": [
        "# Add a list element\n",
        "lstEx03.append(4)\n",
        "print(lstEx03)"
      ],
      "metadata": {
        "id": "dpyxj4RJnDDR"
      },
      "execution_count": null,
      "outputs": []
    },
    {
      "cell_type": "markdown",
      "metadata": {
        "id": "HFyUScBRqL1-"
      },
      "source": [
        "## 튜플 다루기"
      ]
    },
    {
      "cell_type": "code",
      "source": [
        "### Tuple 생성\n",
        "TupleNull = ()\n",
        "TupleNull2 = (0)\n",
        "print(type(TupleNull))\n",
        "print(type(TupleNull2))"
      ],
      "metadata": {
        "id": "-svDmea_OdO-"
      },
      "execution_count": null,
      "outputs": []
    },
    {
      "cell_type": "code",
      "metadata": {
        "id": "EoOoVOCvono-"
      },
      "source": [
        "myTuple1 = (1, 2, 3.14, True, \"대한민국\")\n",
        "print(myTuple1)"
      ],
      "execution_count": null,
      "outputs": []
    },
    {
      "cell_type": "code",
      "metadata": {
        "id": "t2HYlhB2b9JL"
      },
      "source": [
        "myTuple1[1] = 3.333\n",
        "print(myTuple1)"
      ],
      "execution_count": null,
      "outputs": []
    },
    {
      "cell_type": "markdown",
      "metadata": {
        "id": "-Rr6fAwqtgFV"
      },
      "source": [
        "## 세트 다루기"
      ]
    },
    {
      "cell_type": "code",
      "metadata": {
        "id": "GpSbXvV4dZWz"
      },
      "source": [
        "### Set 생성\n",
        "setNull = set()\n",
        "print(type(setNull))"
      ],
      "execution_count": null,
      "outputs": []
    },
    {
      "cell_type": "code",
      "metadata": {
        "id": "bm6uIv88da5l"
      },
      "source": [
        "setAA = {1, 2, 3, 3, 7, 5, 5, 5}\n",
        "setBB = {4, 4, 5, 6, 7, 8}\n",
        "setMix = {3.5, 2, 1, \"My String\", 5.4, \"AAA\"}\n",
        "\n",
        "print(setAA)\n",
        "print(setBB)\n",
        "print(setMix)"
      ],
      "execution_count": null,
      "outputs": []
    },
    {
      "cell_type": "code",
      "metadata": {
        "id": "6WJqPN3Id9HZ"
      },
      "source": [
        "## Add or Delete Items\n",
        "setAA.add(4)\n",
        "print(setAA)"
      ],
      "execution_count": null,
      "outputs": []
    },
    {
      "cell_type": "code",
      "metadata": {
        "id": "4ZIb-z9vh9Rd"
      },
      "source": [
        "## Set Operation\n",
        "print('setAA:', setAA)\n",
        "print('setBB:', setBB)\n",
        "\n",
        "setUnionAB = setAA.union(setBB)\n",
        "print('setUnionAB:',setUnionAB)\n",
        "setIntersecAB = setAA.intersection(setBB)\n",
        "print('setIntersecAB:',setIntersecAB)\n",
        "setDiffAB = setAA.difference(setBB)\n",
        "print('setDiffAB:',setDiffAB)"
      ],
      "execution_count": null,
      "outputs": []
    },
    {
      "cell_type": "markdown",
      "metadata": {
        "id": "3pCVveW8intQ"
      },
      "source": [
        "## 딕셔너리 다루기"
      ]
    },
    {
      "cell_type": "code",
      "metadata": {
        "id": "QVMI-L8YhkDM"
      },
      "source": [
        "# Dictionary Handling\n",
        "myDict = {\"프랑스\":\"파리\", \"영국\":\"런던\", \"미국\":\"워싱턴\"}\n",
        "print(myDict)\n",
        "print(myDict[\"영국\"])"
      ],
      "execution_count": null,
      "outputs": []
    },
    {
      "cell_type": "code",
      "metadata": {
        "id": "g7dPfQ3fi5Us"
      },
      "source": [
        "# Addition & Deletion\n",
        "myDict[\"스위스\"] = \"취리히\"\n",
        "myDict[\"중국\"] = \"베이징\"\n",
        "print(myDict)"
      ],
      "execution_count": null,
      "outputs": []
    },
    {
      "cell_type": "code",
      "metadata": {
        "id": "pwUgrhkhjITn"
      },
      "source": [
        "myDict[\"스위스\"] = \"베른\"\n",
        "print(myDict)"
      ],
      "execution_count": null,
      "outputs": []
    },
    {
      "cell_type": "markdown",
      "source": [
        "# **Control Statement**\n"
      ],
      "metadata": {
        "id": "xTqw-XtjSdhz"
      }
    },
    {
      "cell_type": "markdown",
      "metadata": {
        "id": "OtZafX5sjpye"
      },
      "source": [
        "## 조건문"
      ]
    },
    {
      "cell_type": "code",
      "source": [
        "if (True):\n",
        "  # 명령 + 들여쓰기\n",
        "  print(\"\")"
      ],
      "metadata": {
        "id": "X4DMCxHyieLT"
      },
      "execution_count": null,
      "outputs": []
    },
    {
      "cell_type": "code",
      "metadata": {
        "id": "yqHVuRhGmCZc"
      },
      "source": [
        "# IF statement\n",
        "nScore = 90\n",
        "if (nScore > 80) :\n",
        "  print(\"당신의 점수는\", nScore, \"점 입니다.\")\n",
        "  print(\"당신은 합격입니다\")\n",
        "\n",
        "print(\"완료\")"
      ],
      "execution_count": null,
      "outputs": []
    },
    {
      "cell_type": "code",
      "metadata": {
        "id": "k3hbvyPGme1p"
      },
      "source": [
        "# IF-ELSE statement\n",
        "nScore = 70\n",
        "if (nScore > 80) :\n",
        "  print(\"당신의 점수는\", nScore, \" 점 입니다.\")\n",
        "  print(\"당신은 합격입니다\")\n",
        "else :\n",
        "  print(\"미안합니다만 불합격입니다\")\n",
        "\n",
        "print(\"완료\")"
      ],
      "execution_count": null,
      "outputs": []
    },
    {
      "cell_type": "code",
      "metadata": {
        "id": "MNL264fYnIV2"
      },
      "source": [
        "# IF-ELSE statement (1)\n",
        "nScore = int(input(\"Score = \"))\n",
        "if nScore > 90 :\n",
        "  print(\"Grade = A\")\n",
        "elif nScore > 80 :\n",
        "  print(\"Grade = B\")\n",
        "elif nScore > 70 :\n",
        "  print(\"Grade = C\")\n",
        "elif nScore > 60 :\n",
        "  print(\"Grade = D\")\n",
        "else :\n",
        "  print(\"Grade = F\")"
      ],
      "execution_count": null,
      "outputs": []
    },
    {
      "cell_type": "markdown",
      "metadata": {
        "id": "dw2FrgQHp2BX"
      },
      "source": [
        "## 반복문"
      ]
    },
    {
      "cell_type": "markdown",
      "source": [
        "### For"
      ],
      "metadata": {
        "id": "sf3rHQ39H59M"
      }
    },
    {
      "cell_type": "code",
      "metadata": {
        "id": "kIoR0br2qN1y"
      },
      "source": [
        "# for Loop - Basic\n",
        "for n in [1,2,3] :\n",
        "  print(n)"
      ],
      "execution_count": null,
      "outputs": []
    },
    {
      "cell_type": "code",
      "metadata": {
        "id": "zMrmYxIOrPYs"
      },
      "source": [
        "nSum = 0\n",
        "\n",
        "for n in range(1,6) :\n",
        "  nSum = nSum + n\n",
        "print(nSum)"
      ],
      "execution_count": null,
      "outputs": []
    },
    {
      "cell_type": "code",
      "source": [
        "# 중첩 반복문\n",
        "xList = [\"X1\", \"X2\"]\n",
        "yList = [\"Y1\", \"Y2\"]\n",
        "for x in xList:\n",
        "  for y in yList:\n",
        "    print(x+y)"
      ],
      "metadata": {
        "id": "oh6UdyPC9KTx"
      },
      "execution_count": null,
      "outputs": []
    },
    {
      "cell_type": "code",
      "metadata": {
        "id": "3eCytTLX6UXb"
      },
      "source": [
        "# break & continue - (1)\n",
        "for k in range(5) :\n",
        "  if k == 2 :\n",
        "    continue\n",
        "  print(k, end=\" \")"
      ],
      "execution_count": null,
      "outputs": []
    },
    {
      "cell_type": "code",
      "metadata": {
        "id": "dl2qwY1NlNp0"
      },
      "source": [
        "for kk in range(7) :\n",
        "  if kk == 3 :\n",
        "    break\n",
        "  print(kk)"
      ],
      "execution_count": null,
      "outputs": []
    },
    {
      "cell_type": "markdown",
      "source": [
        "### While"
      ],
      "metadata": {
        "id": "w2MpRhEBH_Ds"
      }
    },
    {
      "cell_type": "code",
      "source": [
        "## while Loop statement\n",
        "\n",
        "nCount = 0\n",
        "while nCount < 10:\n",
        "  print(nCount)\n",
        "  nCount = nCount + 1\n"
      ],
      "metadata": {
        "id": "Eq4C-fst8E4t"
      },
      "execution_count": null,
      "outputs": []
    },
    {
      "cell_type": "code",
      "metadata": {
        "id": "1sRn311k5yUw"
      },
      "source": [
        "# while Loop\n",
        "\n",
        "while True :\n",
        "  print(\"Infinite Looping\")"
      ],
      "execution_count": null,
      "outputs": []
    },
    {
      "cell_type": "markdown",
      "metadata": {
        "id": "hYl-PncXPrKI"
      },
      "source": [
        "# **Packages**"
      ]
    },
    {
      "cell_type": "code",
      "execution_count": null,
      "metadata": {
        "id": "JbZ7VJLtPuEE"
      },
      "outputs": [],
      "source": [
        "import numpy as np\n",
        "import pandas as pd"
      ]
    },
    {
      "cell_type": "code",
      "source": [
        "print(np.__version__)\n",
        "print(pd.__version__)"
      ],
      "metadata": {
        "id": "AHzHcWLZZLGU"
      },
      "execution_count": null,
      "outputs": []
    },
    {
      "cell_type": "markdown",
      "metadata": {
        "id": "LSCOPEu7PMTF"
      },
      "source": [
        "# **NumPy**"
      ]
    },
    {
      "cell_type": "markdown",
      "source": [
        "##배열 생성 및 변환"
      ],
      "metadata": {
        "id": "ZQsbtLkknY1W"
      }
    },
    {
      "cell_type": "markdown",
      "metadata": {
        "id": "O2riZXWddqob"
      },
      "source": [
        "*  **np.array()**: ndarray 타입의 데이터 생성\n",
        "*  **np.shape()**: 배열의 형태 리턴\n",
        "\n",
        "\n",
        "\n",
        "\n",
        "\n",
        "\n",
        "\n",
        "\n"
      ]
    },
    {
      "cell_type": "code",
      "execution_count": null,
      "metadata": {
        "id": "9Z1y2rjRRsom"
      },
      "outputs": [],
      "source": [
        "# import numpy\n",
        "import numpy as np\n",
        "\n",
        "# 배열 생성 및 변환\n",
        "seq_data = [12, 3, 5, 4, 11]\n",
        "arr = np.array(seq_data)\n",
        "\n",
        "print(arr)\n",
        "print(np.shape(arr))\n",
        "print(type(arr))"
      ]
    },
    {
      "cell_type": "code",
      "execution_count": null,
      "metadata": {
        "id": "BU9PiCR9vqxE"
      },
      "outputs": [],
      "source": [
        "matrix1 = [[2, 3],[1, 6]]\n",
        "arr1 = np.array(matrix1)\n",
        "\n",
        "print(arr1)\n",
        "print(np.shape(arr1))"
      ]
    },
    {
      "cell_type": "markdown",
      "metadata": {
        "id": "VOwNFElxeoN7"
      },
      "source": [
        "*  **np.reshape()**: 배열의 형태를 지정한 값으로 변환\n",
        "*  **np.transpose()**: 행렬 Transpose"
      ]
    },
    {
      "cell_type": "code",
      "execution_count": null,
      "metadata": {
        "id": "FMCDeXR3RtIB"
      },
      "outputs": [],
      "source": [
        "matrix2 = [[1, 3, 2],\n",
        "           [2, 7, 1]]\n",
        "arr2 = np.array(matrix2)\n",
        "\n",
        "print(arr2)\n",
        "print('shape: {}'.format(arr2.shape))"
      ]
    },
    {
      "cell_type": "code",
      "execution_count": null,
      "metadata": {
        "id": "jdgxYK3MwqGL"
      },
      "outputs": [],
      "source": [
        "print(arr2.reshape((3, 2))) # (3,2) 차원으로 변경"
      ]
    },
    {
      "cell_type": "code",
      "execution_count": null,
      "metadata": {
        "id": "YDfhA6q1w8JU"
      },
      "outputs": [],
      "source": [
        "print(np.transpose(arr2))\n",
        "print(arr2.T)"
      ]
    },
    {
      "cell_type": "code",
      "execution_count": null,
      "metadata": {
        "id": "eXm8DvfQvgpu"
      },
      "outputs": [],
      "source": [
        "print(np.eye(4))"
      ]
    },
    {
      "cell_type": "markdown",
      "metadata": {
        "id": "zBp8VHuYRzum"
      },
      "source": [
        "## 배열 인덱싱(Indexing)/ 슬라이싱(Slicing)\n",
        "- Note: Python의 인덱스는 0부터 시작"
      ]
    },
    {
      "cell_type": "code",
      "execution_count": null,
      "metadata": {
        "id": "eIXv6wq7xsTe"
      },
      "outputs": [],
      "source": [
        "arr"
      ]
    },
    {
      "cell_type": "code",
      "source": [
        "arr1"
      ],
      "metadata": {
        "id": "0F1KC9yukXTv"
      },
      "execution_count": null,
      "outputs": []
    },
    {
      "cell_type": "code",
      "execution_count": null,
      "metadata": {
        "id": "_Fp5YxC1x25D"
      },
      "outputs": [],
      "source": [
        "print(arr[0])\n",
        "print(arr[-1])\n",
        "print(arr1[0])\n",
        "print(arr1[0, 1])\n",
        "print(arr1[0][1])"
      ]
    },
    {
      "cell_type": "code",
      "execution_count": null,
      "metadata": {
        "id": "YGPLiSlW0faB"
      },
      "outputs": [],
      "source": [
        "arr2"
      ]
    },
    {
      "cell_type": "code",
      "execution_count": null,
      "metadata": {
        "id": "27YO5OTx0fvu"
      },
      "outputs": [],
      "source": [
        "print(arr2[0:2, 1:])"
      ]
    },
    {
      "cell_type": "markdown",
      "metadata": {
        "id": "1zFqMWNfSoc9"
      },
      "source": [
        "## 배열 연산"
      ]
    },
    {
      "cell_type": "markdown",
      "metadata": {
        "id": "w4_a5X2Cu8MJ"
      },
      "source": [
        "|  연산자  |       함수      |        설명        |\n",
        "|----------|:-----------------|:--------------------|\n",
        "|+|np.add()|덧셈|\n",
        "|-|np.subtract()|뺄셈|\n",
        "|*|np.multiply()|곱셈(아다마르 곱)|\n",
        "|@|np.dot()|곱셈(행렬 곱)|\n",
        "|/|np.devide()|나눗셈|\n",
        "|//|np.floor_divide()|나눗셈 내림|\n",
        "|**|np.power()|지수 연산|\n",
        "|%|np.mod()|나머지 연산|"
      ]
    },
    {
      "cell_type": "code",
      "execution_count": null,
      "metadata": {
        "id": "JgUkwmCv1dOr"
      },
      "outputs": [],
      "source": [
        "arr1"
      ]
    },
    {
      "cell_type": "code",
      "execution_count": null,
      "metadata": {
        "id": "vzQLkcAn1dwg"
      },
      "outputs": [],
      "source": [
        "arr11 = np.array([[1, 1],[3, 2]])\n",
        "arr11"
      ]
    },
    {
      "cell_type": "code",
      "execution_count": null,
      "metadata": {
        "id": "W_h9OV-3u8T7"
      },
      "outputs": [],
      "source": [
        "print(arr1 + arr11)"
      ]
    },
    {
      "cell_type": "code",
      "execution_count": null,
      "metadata": {
        "id": "BRryXq-S1MSk"
      },
      "outputs": [],
      "source": [
        "# Hadamard product A ⊙ B\n",
        "print(arr1 * arr11)"
      ]
    },
    {
      "cell_type": "code",
      "execution_count": null,
      "metadata": {
        "id": "Ak3NAaGSwPKf"
      },
      "outputs": [],
      "source": [
        "# Dot product\n",
        "print(arr1 @ arr11)"
      ]
    },
    {
      "cell_type": "markdown",
      "metadata": {
        "id": "UKnQNhPUx_iR"
      },
      "source": [
        "|       함수      |        설명        |\n",
        "|:-----------------|:--------------------|\n",
        "|np.sum()|배열의 합|\n",
        "|np.cumsum()|배열의 누적합|\n",
        "|np.mean()|배열의 평균|\n",
        "|np.std()|배열의 표준편차\n",
        "|np.max()|배열의 최대값|\n",
        "|np.min()|배열의 최소값|\n",
        "|np.argmax()|배열의 최대값 Index|\n",
        "|np.argmin()|배열의 최소값 Index|"
      ]
    },
    {
      "cell_type": "code",
      "source": [
        "print(np.sum(arr1))"
      ],
      "metadata": {
        "id": "LEBComSHnwGe"
      },
      "execution_count": null,
      "outputs": []
    },
    {
      "cell_type": "code",
      "source": [
        "print(np.min(arr1))"
      ],
      "metadata": {
        "id": "4-DDyNCVnxJj"
      },
      "execution_count": null,
      "outputs": []
    },
    {
      "cell_type": "markdown",
      "metadata": {
        "id": "tL00FZJAwc14"
      },
      "source": [
        "|       함수      |        설명        |\n",
        "|:-----------------|:--------------------|\n",
        "|np.trace()|대각합|\n",
        "|np.linalg.det()|행렬식|\n",
        "|np.linalg.inv()|역행렬 계산|\n",
        "|np.linalg.lmatrix_power()|행렬 지수 연산|\n",
        "|np.linalg.eig()|고유값 분해|\n",
        "|np.linalg.svd()|특이값 분해|\n",
        "|np.linalg.solve()|선형 연립 방정식의 해 구하기|"
      ]
    },
    {
      "cell_type": "code",
      "source": [
        "arr1"
      ],
      "metadata": {
        "id": "AFHTues5nS6G"
      },
      "execution_count": null,
      "outputs": []
    },
    {
      "cell_type": "code",
      "execution_count": null,
      "metadata": {
        "id": "InBHUncAwc9R"
      },
      "outputs": [],
      "source": [
        "print(np.linalg.det(arr1))"
      ]
    },
    {
      "cell_type": "code",
      "execution_count": null,
      "metadata": {
        "id": "ge9LujV51ysp"
      },
      "outputs": [],
      "source": [
        "print(np.linalg.inv(arr1))"
      ]
    },
    {
      "cell_type": "code",
      "execution_count": null,
      "metadata": {
        "id": "haxWONbM1yuc"
      },
      "outputs": [],
      "source": [
        "print(np.linalg.eig(arr1))"
      ]
    },
    {
      "cell_type": "markdown",
      "metadata": {
        "id": "BJRbF9maPNPH"
      },
      "source": [
        "# **Pandas**"
      ]
    },
    {
      "cell_type": "markdown",
      "metadata": {
        "id": "Du8-5hYRZGb9"
      },
      "source": [
        "## 데이터프레임 생성"
      ]
    },
    {
      "cell_type": "markdown",
      "metadata": {
        "id": "VnNtb2K9rdAO"
      },
      "source": [
        "*  **pd.DataFrame()**: 데이터프레임 타입의 데이터 생성\n",
        "*  **df.shape**: 데이터프레임 데이터 객체의 형태 리턴\n",
        "*  **df.index**: 데이터프레임 데이터 객체의 인덱스에 접근\n",
        "*  **df.columns**: 데이터프레임 데이터 객체의 컬럼에 접근"
      ]
    },
    {
      "cell_type": "code",
      "execution_count": null,
      "metadata": {
        "id": "UiT9FFo7tJPa"
      },
      "outputs": [],
      "source": [
        "# import pandas\n",
        "import pandas as pd\n",
        "\n",
        "mydataset1 = [[1, 3, 2], [4, 6, 1]]\n",
        "df1 = pd.DataFrame(mydataset1, index = [1, 2], columns = ['a', 'b', 'c'])\n",
        "df1"
      ]
    },
    {
      "cell_type": "code",
      "source": [
        "df1.shape"
      ],
      "metadata": {
        "id": "SbC02YtZDn13"
      },
      "execution_count": null,
      "outputs": []
    },
    {
      "cell_type": "code",
      "execution_count": null,
      "metadata": {
        "id": "2STNzzwdtIdP"
      },
      "outputs": [],
      "source": [
        "df1.columns = ['x1', 'x2', 'x3']\n",
        "df1"
      ]
    },
    {
      "cell_type": "markdown",
      "metadata": {
        "id": "so7L_tzAZynU"
      },
      "source": [
        "## 데이터프레임 조회"
      ]
    },
    {
      "cell_type": "markdown",
      "metadata": {
        "id": "UJJoRzNcr_Ua"
      },
      "source": [
        "*  **df.loc[]**: 지정한 이름에 기반하여 데이터프레임 조회\n",
        "*  **df.iloc[]**: 숫자에 기반하여 데이터프레임 조회"
      ]
    },
    {
      "cell_type": "code",
      "execution_count": null,
      "metadata": {
        "id": "3UYa2odRPtse"
      },
      "outputs": [],
      "source": [
        "print(df1['x1'])"
      ]
    },
    {
      "cell_type": "code",
      "execution_count": null,
      "metadata": {
        "id": "9Hac8T8H2La5"
      },
      "outputs": [],
      "source": [
        "print(df1.loc[1, 'x3'])"
      ]
    },
    {
      "cell_type": "code",
      "execution_count": null,
      "metadata": {
        "id": "1Wmh52ml2LgA"
      },
      "outputs": [],
      "source": [
        "print(df1.iloc[0, 1])"
      ]
    },
    {
      "cell_type": "code",
      "source": [
        "print(df1.iloc[:2, 1])"
      ],
      "metadata": {
        "id": "mLXYixqjLp94"
      },
      "execution_count": null,
      "outputs": []
    },
    {
      "cell_type": "markdown",
      "metadata": {
        "id": "3dgtB6F4sVRc"
      },
      "source": [
        "*  **df.join()**: 수평 축의 방향으로 데이터프레임 병합\n",
        "*  **pd.concat()**: 수평 혹은 수직 방향을 선택하여 데이터프레임 병합"
      ]
    },
    {
      "cell_type": "code",
      "execution_count": null,
      "metadata": {
        "id": "Pa6tBA9CtHZP"
      },
      "outputs": [],
      "source": [
        "test_df1 = pd.DataFrame(np.arange(25).reshape(5,5),\n",
        "                        columns = ['A','B','C','D','E'],\n",
        "                        index = ['가','나','다','라','마'])\n",
        "\n",
        "test_df2 = pd.DataFrame(np.arange(30,40).reshape(5,2),\n",
        "                        columns = ['X','Y'],\n",
        "                        index = ['가','나','다','라','마'])\n",
        "\n",
        "test_df3 = pd.DataFrame(np.arange(50,60).reshape(2,5),\n",
        "                        columns = ['A','B','C','D','E'],\n",
        "                        index = ['따오기','메추라기'])"
      ]
    },
    {
      "cell_type": "code",
      "source": [
        "test_df1"
      ],
      "metadata": {
        "id": "llkBdj-qLy9I"
      },
      "execution_count": null,
      "outputs": []
    },
    {
      "cell_type": "code",
      "source": [
        "test_df2"
      ],
      "metadata": {
        "id": "JeCZEjrvL8ye"
      },
      "execution_count": null,
      "outputs": []
    },
    {
      "cell_type": "code",
      "source": [
        "test_df3"
      ],
      "metadata": {
        "id": "disQx6YBEHBo"
      },
      "execution_count": null,
      "outputs": []
    },
    {
      "cell_type": "code",
      "execution_count": null,
      "metadata": {
        "id": "1cL3cWXi2cTO"
      },
      "outputs": [],
      "source": [
        "pd.concat([test_df1,test_df2], axis = 1)"
      ]
    },
    {
      "cell_type": "code",
      "execution_count": null,
      "metadata": {
        "id": "RPK8teGD2m66"
      },
      "outputs": [],
      "source": [
        "pd.concat([test_df1,test_df3], axis = 0)"
      ]
    },
    {
      "cell_type": "markdown",
      "metadata": {
        "id": "LVL5qkMqbPSP"
      },
      "source": [
        "## Pandas <-> Numpy"
      ]
    },
    {
      "cell_type": "markdown",
      "metadata": {
        "id": "oVfaZgErs8yD"
      },
      "source": [
        "*  **df.values**: 데이터프레임 타입의 객체를 ndarray 타입으로 변경\n",
        "*  **df.to_numpy()**: 데이터프레임 타입의 객체를 ndarray 타입으로 변경"
      ]
    },
    {
      "cell_type": "code",
      "execution_count": null,
      "metadata": {
        "id": "boBWUtErtHJJ"
      },
      "outputs": [],
      "source": [
        "test_df = pd.DataFrame(np.random.random((5,5)),\n",
        "                        columns = ['A','B','C','D', 'E'],\n",
        "                        index = ['가','나','다','라','마'])\n",
        "\n",
        "test_df"
      ]
    },
    {
      "cell_type": "code",
      "source": [
        "test_arr = test_df.to_numpy()\n",
        "test_arr"
      ],
      "metadata": {
        "id": "d3ZUPm2KrhCX"
      },
      "execution_count": null,
      "outputs": []
    },
    {
      "cell_type": "code",
      "source": [
        "test_df2 = pd.DataFrame(test_arr)\n",
        "test_df2"
      ],
      "metadata": {
        "id": "-YXJSWwmrmNL"
      },
      "execution_count": null,
      "outputs": []
    },
    {
      "cell_type": "markdown",
      "metadata": {
        "id": "uhRuFdYTcKaN"
      },
      "source": [
        "## 데이터프레임 집계함수"
      ]
    },
    {
      "cell_type": "code",
      "execution_count": null,
      "metadata": {
        "id": "aJm3m4VVtNPQ"
      },
      "outputs": [],
      "source": [
        "# toy example\n",
        "from sklearn.datasets import load_iris"
      ]
    },
    {
      "cell_type": "code",
      "execution_count": null,
      "metadata": {
        "id": "IvaYOQAYtRCu"
      },
      "outputs": [],
      "source": [
        "iris = load_iris()\n",
        "iris_df = pd.DataFrame(data=iris.data, columns=iris.feature_names)"
      ]
    },
    {
      "cell_type": "code",
      "execution_count": null,
      "metadata": {
        "id": "sYv_tFFqtX9k"
      },
      "outputs": [],
      "source": [
        "iris_df"
      ]
    },
    {
      "cell_type": "markdown",
      "metadata": {
        "id": "Z9Z-PV7vtcOe"
      },
      "source": [
        "|       함수      |        설명        |\n",
        "|:-----------------|:--------------------|\n",
        "|df.meant()|데이터프레임 평균|\n",
        "|df.std()|데이터프레임 표준편차|\n",
        "|df.median()|데이터프레임 중앙값|\n",
        "|df.max()|데이터프레임 최대값|\n",
        "|df.min()|데이터프레임 최소값|\n",
        "|df.describe()|데이터프레임 통계량|\n",
        "|df.groupby()|데이터프레임 그룹별 값|"
      ]
    },
    {
      "cell_type": "code",
      "execution_count": null,
      "metadata": {
        "id": "kO-QK9lttczj"
      },
      "outputs": [],
      "source": [
        "iris_df.mean()"
      ]
    },
    {
      "cell_type": "code",
      "execution_count": null,
      "metadata": {
        "id": "uQEV9ReI2zb8"
      },
      "outputs": [],
      "source": [
        "iris_df.std()"
      ]
    },
    {
      "cell_type": "code",
      "execution_count": null,
      "metadata": {
        "id": "3aBR35gP21E1"
      },
      "outputs": [],
      "source": [
        "iris_df.describe()"
      ]
    },
    {
      "cell_type": "markdown",
      "metadata": {
        "id": "Q8nAMpwZRmQU"
      },
      "source": [
        "# **Practice - Pearson Correlation Analysis**"
      ]
    },
    {
      "cell_type": "markdown",
      "source": [
        "## Import/ Data"
      ],
      "metadata": {
        "id": "AvTIhQOVx75L"
      }
    },
    {
      "cell_type": "code",
      "metadata": {
        "id": "YXXsaaAASBHc"
      },
      "source": [
        "#Import packages\n",
        "import numpy as np\n",
        "import pandas as pd\n",
        "\n",
        "import scipy.stats as stats\n",
        "\n",
        "import matplotlib.pyplot as plt\n",
        "import seaborn as sns"
      ],
      "execution_count": null,
      "outputs": []
    },
    {
      "cell_type": "code",
      "metadata": {
        "id": "dn0QXXmaSCgg"
      },
      "source": [
        "from google.colab import files\n",
        "\n",
        "uploaded = files.upload()"
      ],
      "execution_count": null,
      "outputs": []
    },
    {
      "cell_type": "code",
      "metadata": {
        "id": "H200TAZxSDjR"
      },
      "source": [
        "import io\n",
        "\n",
        "BostonHousingData = pd.read_csv(io.BytesIO(uploaded['BostonHousingData.csv']))\n",
        "\n",
        "# Remove the 15th column (index 14) from the BostonHousingData DataFrame\n",
        "BostonHousingData = BostonHousingData.drop(BostonHousingData.columns[14], axis=1)"
      ],
      "execution_count": null,
      "outputs": []
    },
    {
      "cell_type": "code",
      "metadata": {
        "id": "OY4S8AEnSE5D"
      },
      "source": [
        "BostonHousingData"
      ],
      "execution_count": null,
      "outputs": []
    },
    {
      "cell_type": "code",
      "source": [
        "BostonHousingData.describe()"
      ],
      "metadata": {
        "id": "Md9EPkbqx4r8"
      },
      "execution_count": null,
      "outputs": []
    },
    {
      "cell_type": "markdown",
      "source": [
        "## Preprocessing"
      ],
      "metadata": {
        "id": "wQk-msjDyPhs"
      }
    },
    {
      "cell_type": "code",
      "metadata": {
        "id": "DAv_tgAvSGGO"
      },
      "source": [
        "# Update feature_list to reflect the columns selected for 'features' DataFrame\n",
        "feature_list=['CRIM', 'ZN', 'INDUS', 'CHAS', 'NOX', 'RM', 'AGE', 'DIS', 'RAD', 'TAX', 'PTRATIO', 'B', 'LSTAT', ',MEDV']\n",
        "features=BostonHousingData.iloc[:, 0:14]\n",
        "print(features)"
      ],
      "execution_count": null,
      "outputs": []
    },
    {
      "cell_type": "markdown",
      "source": [
        "## Correlation Analysis"
      ],
      "metadata": {
        "id": "3yao6QhKyCUk"
      }
    },
    {
      "cell_type": "markdown",
      "source": [
        "![corr.png](data:image/png;base64,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)"
      ],
      "metadata": {
        "id": "6F06DWihYbWV"
      }
    },
    {
      "cell_type": "code",
      "source": [
        "def pearsonr_np(x, y):\n",
        "    xm = x - x.mean()\n",
        "    ym = y - y.mean()\n",
        "\n",
        "    num = np.dot(xm, ym)\n",
        "    den = np.sqrt(np.dot(xm, xm) * np.dot(ym, ym))\n",
        "\n",
        "    return num / den"
      ],
      "metadata": {
        "id": "8YQc6MmDJRYG"
      },
      "execution_count": null,
      "outputs": []
    },
    {
      "cell_type": "code",
      "source": [
        "pearsonr_np(features['RM'], features['MEDV'])"
      ],
      "metadata": {
        "id": "kMxZqwhgJZyh"
      },
      "execution_count": null,
      "outputs": []
    },
    {
      "cell_type": "markdown",
      "source": [
        "* **pearsonr(x, y):** 두 Feature에 대해서 피어슨 상관계수 값과 p-value를 도출하는 메소드\n",
        "\n",
        "\n",
        "> **x:** 상관계수를 보고 싶은 Feature 1\n",
        "\n",
        "> **y:** 상관계수를 보고 싶은 Feature 2\n",
        "\n",
        "\n",
        "\n"
      ],
      "metadata": {
        "id": "P4BA6B8L2HpD"
      }
    },
    {
      "cell_type": "code",
      "metadata": {
        "id": "00bjLMpJK_Kl"
      },
      "source": [
        "# Use columns that are present in the 'features' DataFrame for Pearson correlation\n",
        "stats.pearsonr(features['ZN'], features['INDUS'])"
      ],
      "execution_count": null,
      "outputs": []
    },
    {
      "cell_type": "code",
      "source": [
        "#correlation coefficient dataframe\n",
        "corr_coefficient=pd.DataFrame(np.zeros((9,9)))\n",
        "corr_coefficient.columns = feature_list\n",
        "corr_coefficient.index = feature_list\n",
        "\n",
        "#correlation P-values dataframe\n",
        "corr_p_values=pd.DataFrame(np.zeros((9,9)))\n",
        "corr_p_values.columns = feature_list\n",
        "corr_p_values.index = feature_list"
      ],
      "metadata": {
        "id": "sOH_5GIcHuXN"
      },
      "execution_count": null,
      "outputs": []
    },
    {
      "cell_type": "code",
      "metadata": {
        "id": "eYEjY3ACLAkX"
      },
      "source": [
        "def corr_c(dataframe):\n",
        "    col_length=len(dataframe.columns)\n",
        "    idx_length=len(dataframe.index)\n",
        "    for idx in range(idx_length):\n",
        "        for col in range(col_length):\n",
        "            dataframe.iloc[idx,col] = stats.pearsonr(features[feature_list[idx]], features[feature_list[col]])[0]\n",
        "    return dataframe\n",
        "\n",
        "def corr_p(dataframe):\n",
        "    col_length=len(dataframe.columns)\n",
        "    idx_length=len(dataframe.index)\n",
        "    for col in range(col_length):\n",
        "        for idx in range(idx_length):\n",
        "            dataframe.iloc[idx,col] = stats.pearsonr(features[feature_list[idx]], features[feature_list[col]])[1]\n",
        "    return dataframe"
      ],
      "execution_count": null,
      "outputs": []
    },
    {
      "cell_type": "code",
      "metadata": {
        "id": "7vvt4vzJLB1a"
      },
      "source": [
        "corr_c(corr_coefficient)"
      ],
      "execution_count": null,
      "outputs": []
    },
    {
      "cell_type": "code",
      "metadata": {
        "id": "-aSnCOq_LDvQ"
      },
      "source": [
        "corr_p(corr_p_values)"
      ],
      "execution_count": null,
      "outputs": []
    },
    {
      "cell_type": "markdown",
      "source": [
        "## Visualization"
      ],
      "metadata": {
        "id": "qFW2ASqE2Taa"
      }
    },
    {
      "cell_type": "code",
      "metadata": {
        "id": "JZMlWpR4LFVg"
      },
      "source": [
        "#correlation coefficient heatmap\n",
        "plt.figure(figsize=(9,9))\n",
        "sns.heatmap(corr_c(corr_coefficient), annot=True, fmt = '.2f', linewidths=.5, cmap='Blues')"
      ],
      "execution_count": null,
      "outputs": []
    },
    {
      "cell_type": "code",
      "metadata": {
        "id": "P9hYETCuLGhX"
      },
      "source": [
        "#correlation P-values heatmap\n",
        "plt.figure(figsize=(9,9))\n",
        "sns.heatmap(corr_p(corr_p_values), annot=True, fmt = '.2f', linewidths=.5, cmap='Reds')"
      ],
      "execution_count": null,
      "outputs": []
    },
    {
      "cell_type": "code",
      "metadata": {
        "id": "e_LNED5hLIJ7"
      },
      "source": [
        "#Scatterplots for specific variables\n",
        "# Use actual column names from BostonHousingData for scatterplot\n",
        "sns.lmplot(x=\"RM\", y=\"MEDV\", data=BostonHousingData, line_kws={'color':\"red\"}, ci=None)"
      ],
      "execution_count": null,
      "outputs": []
    },
    {
      "cell_type": "markdown",
      "metadata": {
        "id": "NCyk1H4uEqBf"
      },
      "source": [
        "# **Practice - Spearman/ Kendall Rank Correlation Analysis**"
      ]
    },
    {
      "cell_type": "markdown",
      "source": [
        "![image.png](data:image/png;base64,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)\n",
        "\n",
        "![image.png](data:image/png;base64,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)"
      ],
      "metadata": {
        "id": "xS0wsY05EqBg"
      }
    },
    {
      "cell_type": "markdown",
      "source": [
        "## Import/ Data"
      ],
      "metadata": {
        "id": "X7lSzBXxEqBh"
      }
    },
    {
      "cell_type": "code",
      "metadata": {
        "id": "ExmO595KEqBh"
      },
      "source": [
        "#Import packages\n",
        "import numpy as np\n",
        "import pandas as pd\n",
        "\n",
        "import scipy.stats as stats\n",
        "\n",
        "import matplotlib.pyplot as plt\n",
        "import seaborn as sns"
      ],
      "execution_count": null,
      "outputs": []
    },
    {
      "cell_type": "code",
      "metadata": {
        "id": "TkStHZm1EqBi"
      },
      "source": [
        "BostonHousingData"
      ],
      "execution_count": null,
      "outputs": []
    },
    {
      "cell_type": "code",
      "source": [
        "BostonHousingData.describe()"
      ],
      "metadata": {
        "id": "1Tmk65vBEqBi"
      },
      "execution_count": null,
      "outputs": []
    },
    {
      "cell_type": "markdown",
      "source": [
        "## Preprocessing"
      ],
      "metadata": {
        "id": "Ig-hN8P3EqBi"
      }
    },
    {
      "cell_type": "code",
      "metadata": {
        "id": "RNSrV0exEqBi"
      },
      "source": [
        "feature_list=['AGR', 'MIN', 'MAN', 'PS', 'CON', 'SER', 'FIN', 'SPS', 'TC']\n",
        "features=BostonHousingData.iloc[:, 1:10]\n",
        "print(features)"
      ],
      "execution_count": null,
      "outputs": []
    },
    {
      "cell_type": "markdown",
      "source": [
        "## Correlation Analysis"
      ],
      "metadata": {
        "id": "qtV4VebWEqBi"
      }
    },
    {
      "cell_type": "markdown",
      "source": [
        "* **spearmanr(x, y):** 두 Feature에 대해서 spearman 상관계수 값과 p-value를 도출하는 메소드\n",
        "\n",
        "* **kendalltau(x, y):** 두 Feature에 대해서 kendall tau 상관계수 값과 p-value를 도출하는 메소드\n",
        "\n",
        "> **x:** 상관계수를 보고 싶은 Feature 1\n",
        "\n",
        "> **y:** 상관계수를 보고 싶은 Feature 2\n",
        "\n",
        "\n",
        "\n"
      ],
      "metadata": {
        "id": "W6RpMRgfEqBi"
      }
    },
    {
      "cell_type": "code",
      "metadata": {
        "id": "G50Xu0geEqBj"
      },
      "source": [
        "# Use actual column names present in the 'features' DataFrame for spearmanr\n",
        "stats.spearmanr(features['ZN'], features['INDUS'])"
      ],
      "execution_count": null,
      "outputs": []
    },
    {
      "cell_type": "code",
      "source": [
        "# Use actual column names present in the 'features' DataFrame for kendalltau\n",
        "stats.kendalltau(features['ZN'], features['INDUS'])"
      ],
      "metadata": {
        "id": "6ni8REIzFpcW"
      },
      "execution_count": null,
      "outputs": []
    },
    {
      "cell_type": "code",
      "source": [
        "#correlation coefficient dataframe\n",
        "corr_coefficient=pd.DataFrame(np.zeros((len(feature_list),len(feature_list))))\n",
        "corr_coefficient.columns = feature_list\n",
        "corr_coefficient.index = feature_list\n",
        "\n",
        "#correlation P-values dataframe\n",
        "corr_p_values=pd.DataFrame(np.zeros((len(feature_list),len(feature_list))))\n",
        "corr_p_values.columns = feature_list\n",
        "corr_p_values.index = feature_list"
      ],
      "metadata": {
        "id": "xuQNHkV4EqBj"
      },
      "execution_count": null,
      "outputs": []
    },
    {
      "cell_type": "code",
      "metadata": {
        "id": "6xKbJ0exEqBj"
      },
      "source": [
        "def corr_c_spearman(dataframe):\n",
        "    col_length=len(dataframe.columns)\n",
        "    idx_length=len(dataframe.index)\n",
        "    for idx in range(idx_length):\n",
        "        for col in range(col_length):\n",
        "            # Use features DataFrame and its column names\n",
        "            dataframe.iloc[idx,col] = stats.spearmanr(features[dataframe.columns[idx]], features[dataframe.columns[col]])[0]\n",
        "    return dataframe\n",
        "\n",
        "def corr_p_spearman(dataframe):\n",
        "    col_length=len(dataframe.columns)\n",
        "    idx_length=len(dataframe.index)\n",
        "    for col in range(col_length):\n",
        "        for idx in range(idx_length):\n",
        "            # Use features DataFrame and its column names\n",
        "            dataframe.iloc[idx,col] = stats.spearmanr(features[dataframe.columns[idx]], features[dataframe.columns[col]])[1]\n",
        "    return dataframe"
      ],
      "execution_count": null,
      "outputs": []
    },
    {
      "cell_type": "code",
      "metadata": {
        "id": "9Mfq0CqoEqBj"
      },
      "source": [
        "corr_c_spearman(corr_coefficient)"
      ],
      "execution_count": null,
      "outputs": []
    },
    {
      "cell_type": "code",
      "metadata": {
        "id": "iwKgCEZsEqBj"
      },
      "source": [
        "corr_p_spearman(corr_p_values)"
      ],
      "execution_count": null,
      "outputs": []
    },
    {
      "cell_type": "code",
      "source": [
        "def corr_c_kendalltau(dataframe):\n",
        "    col_length=len(dataframe.columns)\n",
        "    idx_length=len(dataframe.index)\n",
        "    for idx in range(idx_length):\n",
        "        for col in range(col_length):\n",
        "            # Use features DataFrame and its column names\n",
        "            dataframe.iloc[idx,col] = stats.kendalltau(features[dataframe.columns[idx]], features[dataframe.columns[col]])[0]\n",
        "    return dataframe\n",
        "\n",
        "def corr_p_kendalltau(dataframe):\n",
        "    col_length=len(dataframe.columns)\n",
        "    idx_length=len(dataframe.index)\n",
        "    for col in range(col_length):\n",
        "        for idx in range(idx_length):\n",
        "            # Use features DataFrame and its column names\n",
        "            dataframe.iloc[idx,col] = stats.kendalltau(features[dataframe.columns[idx]], features[dataframe.columns[col]])[1]\n",
        "    return dataframe"
      ],
      "metadata": {
        "id": "y4Tahtt-GAhn"
      },
      "execution_count": null,
      "outputs": []
    },
    {
      "cell_type": "code",
      "source": [
        "corr_c_kendalltau(corr_coefficient)"
      ],
      "metadata": {
        "id": "eC11BMkMGN_g"
      },
      "execution_count": null,
      "outputs": []
    },
    {
      "cell_type": "code",
      "source": [
        "corr_p_kendalltau(corr_p_values)"
      ],
      "metadata": {
        "id": "226qLk0GGTW7"
      },
      "execution_count": null,
      "outputs": []
    },
    {
      "cell_type": "markdown",
      "source": [
        "## Visualization"
      ],
      "metadata": {
        "id": "cKdGPtQlEqBj"
      }
    },
    {
      "cell_type": "code",
      "metadata": {
        "id": "PXG4whoAEqBk"
      },
      "source": [
        "#spearman correlation coefficient heatmap\n",
        "plt.figure(figsize=(len(feature_list),len(feature_list)))\n",
        "sns.heatmap(corr_c_spearman(corr_coefficient), annot=True, fmt = '.2f', linewidths=.5, cmap='Blues')"
      ],
      "execution_count": null,
      "outputs": []
    },
    {
      "cell_type": "code",
      "metadata": {
        "id": "97IKfZLGEqBk"
      },
      "source": [
        "#spearman correlation P-values heatmap\n",
        "plt.figure(figsize=(len(feature_list),len(feature_list)))\n",
        "sns.heatmap(corr_p_spearman(corr_p_values), annot=True, fmt = '.2f', linewidths=.5, cmap='Reds')"
      ],
      "execution_count": null,
      "outputs": []
    },
    {
      "cell_type": "code",
      "source": [
        "#kendalltau correlation coefficient heatmap\n",
        "plt.figure(figsize=(len(feature_list),len(feature_list)))\n",
        "sns.heatmap(corr_c_kendalltau(corr_coefficient), annot=True, fmt = '.2f', linewidths=.5, cmap='Blues')"
      ],
      "metadata": {
        "id": "B2L5vpThEqBk"
      },
      "execution_count": null,
      "outputs": []
    },
    {
      "cell_type": "code",
      "source": [
        "#kendalltau correlation P-values heatmap\n",
        "plt.figure(figsize=(len(feature_list),len(feature_list)))\n",
        "sns.heatmap(corr_p_kendalltau(corr_p_values), annot=True, fmt = '.2f', linewidths=.5, cmap='Reds')"
      ],
      "metadata": {
        "id": "cUiGUTvPG07R"
      },
      "execution_count": null,
      "outputs": []
    },
    {
      "cell_type": "code",
      "source": [
        "#Scatterplots for specific variables\n",
        "# Use actual column names from BostonHousingData for scatterplot\n",
        "sns.lmplot(x=\"LSTAT\", y=\"MEDV\", data=BostonHousingData, line_kws={'color':\"red\"}, ci=None)"
      ],
      "metadata": {
        "id": "on4Jjp7xHBUH"
      },
      "execution_count": null,
      "outputs": []
    },
    {
      "cell_type": "code",
      "source": [
        "#참고: Pearson correlation coefficient heatmap\n",
        "plt.figure(figsize=(len(feature_list),len(feature_list)))\n",
        "sns.heatmap(corr_c(corr_coefficient), annot=True, fmt = '.2f', linewidths=.5, cmap='Blues')"
      ],
      "metadata": {
        "id": "IsKwP7doHNwL"
      },
      "execution_count": null,
      "outputs": []
    },
    {
      "cell_type": "code",
      "source": [],
      "metadata": {
        "id": "_6ok9VU5adVG"
      },
      "execution_count": null,
      "outputs": []
    }
  ]
}